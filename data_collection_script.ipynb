{
 "cells": [
  {
   "attachments": {},
   "cell_type": "markdown",
   "metadata": {},
   "source": [
    "# Automating the data collection process"
   ]
  },
  {
   "cell_type": "code",
   "execution_count": 7,
   "metadata": {},
   "outputs": [],
   "source": [
    "from pdf2image import convert_from_path as cfp\n",
    "import os\n",
    "import time\n",
    "import requests\n",
    "from bs4 import BeautifulSoup\n",
    "from selenium import webdriver\n",
    "from selenium.webdriver.chrome.options import Options\n",
    "from selenium.webdriver.common.by import By"
   ]
  },
  {
   "cell_type": "code",
   "execution_count": 8,
   "metadata": {},
   "outputs": [],
   "source": [
    "path= \"where the files are\""
   ]
  },
  {
   "cell_type": "code",
   "execution_count": 5,
   "metadata": {},
   "outputs": [],
   "source": [
    "compositions= {\"composer\": [\"list\", \"of\", \"compositions\"],\n",
    "               \"composer2\": [\"make sure\", \"composer\", \"is in\", \"lowercase\"]\n",
    "                }"
   ]
  },
  {
   "attachments": {},
   "cell_type": "markdown",
   "metadata": {},
   "source": [
    "## Image to PDF"
   ]
  },
  {
   "cell_type": "code",
   "execution_count": 1,
   "metadata": {},
   "outputs": [],
   "source": [
    "def to_image(composer, composition):\n",
    "    image= cfp((path+composer+\"\\\\\"+composition+\".pdf\"), poppler_path=r\"your path\\poppler-23.01.0\\Library\\bin\")\n",
    "    for i in range(len(image)):\n",
    "        image[i].save(path+composer+\"\\\\\"+composition+\" \"+str(i+1)+'.jpg', 'JPEG')"
   ]
  },
  {
   "attachments": {},
   "cell_type": "markdown",
   "metadata": {},
   "source": [
    "## Get PDF"
   ]
  },
  {
   "cell_type": "code",
   "execution_count": 2,
   "metadata": {},
   "outputs": [],
   "source": [
    "def get_pdf(composer, compositions):\n",
    "    # set up Chrome driver options\n",
    "    chrome_options = Options()\n",
    "    chrome_options.add_argument(\"--headless\")  # run the browser in the background\n",
    "    chrome_options.add_experimental_option(\"excludeSwitches\", [\"enable-automation\"])\n",
    "    chrome_options.add_argument('--disable-blink-features=AutomationControlled')\n",
    "    \n",
    "    # set up Chrome driver with the path to the chromedriver executable\n",
    "    driver_path = r'path\\to\\chromedriver.exe'\n",
    "    driver = webdriver.Chrome(driver_path, options=chrome_options)\n",
    "\n",
    "    # hopefully circumvent google bot warning\n",
    "    driver.execute_script(\"Object.defineProperty(navigator, 'webdriver', {get: () => undefined})\")\n",
    "    driver.execute_cdp_cmd('Network.setUserAgentOverride', {\"userAgent\": 'Mozilla/5.0 (Windows NT 10.0; Win64; x64) AppleWebKit/537.36 (KHTML, like Gecko) Chrome/83.0.4103.53 Safari/537.36'})\n",
    "    print(driver.execute_script(\"return navigator.userAgent;\"))\n",
    "\n",
    "    for composition_name in compositions:\n",
    "        query = f'site:imslp.org {composition_name}'\n",
    "        query= query.replace(\" \", \"%20\")\n",
    "        url = f'https://www.google.com/search?q={query}'\n",
    "        time.sleep(5)\n",
    "        response = requests.get(url)\n",
    "        soup = BeautifulSoup(response.text, 'html.parser')\n",
    "\n",
    "        # get the first IMSLP link and make it URL-friendly\n",
    "        imslp_link = soup.find('a', href=lambda href: href and composer in href.lower())['href']\n",
    "        valid_link= imslp_link.split(\"&sa\")\n",
    "        valid_link= valid_link[0].replace('%252C', \",\")\n",
    "        valid_link= valid_link.replace(\"(\", \"%28\")\n",
    "        valid_link= valid_link.replace(\")\", \"%29\")\n",
    "        driver.get(valid_link[7:]+\"#tabScore1\")\n",
    "         \n",
    "        '''\n",
    "        Search for \"Complete Score (scan)\" and go to the link containing it\n",
    "        If scanned copy isn't available, get the first entry with \"Complete score\" name. If not available, skip entry.\n",
    "        \n",
    "        In case of no cookies/fresh session, a disclaimer page will pop up. If statement will handle it.\n",
    "        Wait 15 seconds for download link to be generated, additional 2 seconds buffer\n",
    "        '''\n",
    "        try:\n",
    "            driver.find_element('xpath', \"//a[.//span[text()='Complete Score (scan)']]\").click()\n",
    "        except:\n",
    "            try:\n",
    "                driver.find_element('xpath', \"//a[.//span[text()='Complete Score']]\").click()\n",
    "            except:\n",
    "                print(f'{composition_name} complete score not found, skipping')\n",
    "                continue\n",
    "            \n",
    "        if driver.title==\"Disclaimer - IMSLP: Free Sheet Music PDF Download\":\n",
    "            driver.find_element(By.LINK_TEXT, \"I accept this disclaimer, continue to download file\").click()\n",
    "\n",
    "        time.sleep(17)\n",
    "        download_link = driver.find_element('xpath', \"//a[.='Click here to continue your download.']\")\n",
    "        pdf_url = download_link.get_attribute('href')\n",
    "        print(\"Download link found:\", pdf_url)\n",
    "        \n",
    "        response = requests.get(pdf_url)\n",
    "        with open(f'{path}{composer}\\\\{composition_name}.pdf', 'wb') as f:\n",
    "            print(\"Downloading\")\n",
    "            f.write(response.content)\n",
    "\n",
    "        to_image(composer, composition_name)\n",
    "        print(\"Converted\", composition_name, \"to image.\")\n",
    "    # quit the browser\n",
    "    driver.quit()"
   ]
  },
  {
   "attachments": {},
   "cell_type": "markdown",
   "metadata": {},
   "source": [
    "## In parallel"
   ]
  },
  {
   "cell_type": "code",
   "execution_count": 3,
   "metadata": {},
   "outputs": [],
   "source": [
    "from threading import Thread"
   ]
  },
  {
   "cell_type": "code",
   "execution_count": null,
   "metadata": {},
   "outputs": [],
   "source": [
    "threads= [Thread(target= get_pdf, args=(c, compositions[c], )) for c in compositions]\n",
    "for t in threads:\n",
    "    t.start()\n",
    "\n",
    "for t in threads:\n",
    "    t.join()"
   ]
  }
 ],
 "metadata": {
  "kernelspec": {
   "display_name": "Python 3",
   "language": "python",
   "name": "python3"
  },
  "language_info": {
   "codemirror_mode": {
    "name": "ipython",
    "version": 3
   },
   "file_extension": ".py",
   "mimetype": "text/x-python",
   "name": "python",
   "nbconvert_exporter": "python",
   "pygments_lexer": "ipython3",
   "version": "3.9.2"
  },
  "orig_nbformat": 4
 },
 "nbformat": 4,
 "nbformat_minor": 2
}
